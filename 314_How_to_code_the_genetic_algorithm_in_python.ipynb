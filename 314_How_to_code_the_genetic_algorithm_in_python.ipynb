{
  "nbformat": 4,
  "nbformat_minor": 0,
  "metadata": {
    "colab": {
      "provenance": [],
      "include_colab_link": true
    },
    "kernelspec": {
      "name": "python3",
      "display_name": "Python 3"
    },
    "language_info": {
      "name": "python"
    }
  },
  "cells": [
    {
      "cell_type": "markdown",
      "metadata": {
        "id": "view-in-github",
        "colab_type": "text"
      },
      "source": [
        "<a href=\"https://colab.research.google.com/github/w33blaster/Django3-pasword-generator/blob/master/314_How_to_code_the_genetic_algorithm_in_python.ipynb\" target=\"_parent\"><img src=\"https://colab.research.google.com/assets/colab-badge.svg\" alt=\"Open In Colab\"/></a>"
      ]
    },
    {
      "cell_type": "markdown",
      "source": [
        "https://youtu.be/EJeTWRP3Bd0"
      ],
      "metadata": {
        "id": "JiX_6UuP195D"
      }
    },
    {
      "cell_type": "code",
      "source": [],
      "metadata": {
        "id": "MEhORsSN18L1"
      },
      "execution_count": null,
      "outputs": []
    },
    {
      "cell_type": "markdown",
      "source": [
        "# What is Genetic algorithm and How to code it in python?<br>\n",
        "The genetic algorithm is a stochastic method for function optimization inspired by the process of natural evolution - select parents to create children using the crossover and mutation processes.\n",
        "<p>\n",
        "The code is an implementation of the genetic algorithm for optimization. The algorithm is used to find the minimum value of a two-dimensional inverted Gaussian function centered at (7,9). The algorithm consists of the following steps:<p>\n",
        "\n",
        "1. Initialize a population of binary bitstrings with random values.\n",
        "2. Decode the binary bitstrings into numerical values, and evaluate the fitness (the objective function) for each individual in the population.\n",
        "3. Select the best individuals from the population using tournament selection based on the fitness scores.\n",
        "4. Create new offsprings from the selected individuals using the crossover operation.\n",
        "5. Apply the mutation operation on the offsprings to maintain diversity in the population.\n",
        "6. Repeat steps 2 to 5 until a stopping criterion is met.\n",
        "\n",
        "<p>\n",
        "\n",
        "The implementation includes functions for decoding, selection, crossover, and mutation."
      ],
      "metadata": {
        "id": "1cOJkos_zeF8"
      }
    },
    {
      "cell_type": "code",
      "source": [
        "from numpy.random import randint\n",
        "from numpy.random import rand\n",
        "import math"
      ],
      "metadata": {
        "id": "21BoWLSCKXE7"
      },
      "execution_count": 1,
      "outputs": []
    },
    {
      "cell_type": "code",
      "source": [
        "# The objective function is a two-dimensional inverted Gaussian function, centred at (7, 9)\n",
        "def objective(x):\n",
        "  y = math.exp(((x[0]-7)**2) + (x[1]-9)**2)\n",
        "  return y"
      ],
      "metadata": {
        "id": "TDgKquO2KW4f"
      },
      "execution_count": 2,
      "outputs": []
    },
    {
      "cell_type": "code",
      "source": [
        "# The decode function decodes binary bitstrings to numbers for each input and scales the value to fall within defined bounds\n",
        "def decode(bounds, n_bits, bitstring):\n",
        "\t\"\"\"\n",
        "\tThis function decodes binary bitstrings to numbers for each input and scales the value to fall within defined bounds.\n",
        "\n",
        "\tParameters:\n",
        "\t\tbounds (list): A list of tuples representing the lower and upper bounds for each value to be decoded.\n",
        "\t\tn_bits (int): The number of bits used to represent each value.\n",
        "\t\tbitstring (list): A binary bitstring to be decoded.\n",
        "\n",
        "\tReturns:\n",
        "\t\tdecoded (list): A list of decoded values.\n",
        "\t\"\"\"\n",
        "\tdecoded = []  # Create an empty list to hold the decoded values\n",
        "\tlargest = 2**n_bits  # The largest value that can be represented with the given number of bits\n",
        "\tfor i in range(len(bounds)):\n",
        "\t\t# Extract the substring for the current value\n",
        "\t\tstart, end = i * n_bits, (i * n_bits) + n_bits  # Define the start and end indices of the substring\n",
        "\t\tsubstring = bitstring[start:end]  # Extract the substring\n",
        "\t\t# Convert the substring to a string of characters\n",
        "\t\tchars = ''.join([str(s) for s in substring])  # Join the values in the substring together into a string of characters\n",
        "\t\t# Convert the string of characters to an integer\n",
        "\t\tinteger = int(chars, 2)  # Convert the binary number string into an integer\n",
        "\t\t# Scale the integer to the desired range\n",
        "\t\tvalue = bounds[i][0] + (integer/largest) * (bounds[i][1] - bounds[i][0])  # Scale the integer to a value within the defined bounds\n",
        "\t\t# Store the decoded value\n",
        "\t\tdecoded.append(value)\n",
        "\treturn decoded"
      ],
      "metadata": {
        "id": "2sNnzWpCKWvI"
      },
      "execution_count": 28,
      "outputs": []
    },
    {
      "cell_type": "code",
      "source": [
        "# \"\"\"\n",
        "###########################################################################\n",
        "#Let us understand the decoding part first that takes the bounds as input along with the\n",
        "#number of bits and the actual bitstring itself and decodes the bitstring back\n",
        "#to original values that fall within the test bounds.\n",
        "test_bounds=[[-10.0, 10.0], [-10.0, 10.0]]\n",
        "test_n_bits = 16\n",
        "#test_n_pop = 100\n",
        "#Generate a random bit string (of values 0 and 1) of length n_bits*len(bounds). In our case 16*2 = 32\n",
        "test_bit_string = randint(0, 2, test_n_bits*len(test_bounds)).tolist()\n",
        "decoded_values = decode(test_bounds, test_n_bits, test_bit_string)\n",
        "print(test_bit_string)\n",
        "print(decoded_values)\n",
        "######################################################################\n",
        "# \"\"\"\n"
      ],
      "metadata": {
        "id": "0kMN8tYEK1NM",
        "colab": {
          "base_uri": "https://localhost:8080/"
        },
        "outputId": "576b0dbd-12cb-4188-8e2f-4b858c843921"
      },
      "execution_count": 29,
      "outputs": [
        {
          "output_type": "stream",
          "name": "stdout",
          "text": [
            "[1, 0, 1, 1, 0, 1, 1, 0, 0, 1, 0, 0, 1, 1, 1, 0, 0, 0, 0, 1, 0, 0, 1, 0, 1, 1, 1, 0, 0, 1, 0, 1]\n",
            "[4.2425537109375, -8.52386474609375]\n"
          ]
        }
      ]
    },
    {
      "cell_type": "code",
      "source": [
        "def selection(pop, scores, k=3):\n",
        "    \"\"\"\n",
        "    Select the best individuals for the next generation based on their fitness (scores).\n",
        "    This function randomly selects k individuals from the population and performs a tournament\n",
        "    among them to choose the one with the best score.\n",
        "\n",
        "    Parameters:\n",
        "    pop (list): The population of individuals.\n",
        "    scores (list): The fitness scores for each individual in the population.\n",
        "    k (int, optional): The number of individuals to select from the population for the tournament.\n",
        "                        Defaults to 3.\n",
        "\n",
        "    Returns:\n",
        "    individual: The best individual from the tournament.\n",
        "    \"\"\"\n",
        "    # Randomly select one index from the population as the initial selection\n",
        "    selection_ix = randint(len(pop))\n",
        "    # Perform a tournament among k randomly selected individuals\n",
        "    for ix in randint(0, len(pop), k-1):\n",
        "        # Check if the current individual has a better score than the selected one\n",
        "        if scores[ix] < scores[selection_ix]:\n",
        "            # Update the selected individual if a better one is found\n",
        "            selection_ix = ix\n",
        "    # Return the best individual from the tournament\n",
        "    return pop[selection_ix]"
      ],
      "metadata": {
        "id": "--alQ4YtKWkX"
      },
      "execution_count": 5,
      "outputs": []
    },
    {
      "cell_type": "code",
      "source": [
        "# \"\"\"\n",
        "#######################################################\n",
        "#Let us understand the selection process.\n",
        "#Create a test population\n",
        "test_bounds=[[-10.0, 10.0], [-10.0, 10.0]]\n",
        "test_n_bits = 16\n",
        "test_n_pop = 100\n",
        "#Create a random population from which we will select based on the scores (from the objective function)\n",
        "pop = [randint(0, 2, test_n_bits*len(test_bounds)).tolist() for _ in range(test_n_pop)]\n",
        "# decode population\n",
        "test_decoded = [decode(test_bounds, test_n_bits, p) for p in pop]\n",
        "# evaluate all candidates in the population using our objective function\n",
        "test_scores = [objective(d) for d in test_decoded]\n",
        "#Run the selection to pick the selected ones from our population\n",
        "test_selection = selection(pop, test_scores, k=3)\n",
        "\n",
        "print(\"From a population of :\", len(pop), \" the selected pop is: \")\n",
        "print(test_selection)\n",
        "################################################\n",
        "# \"\"\""
      ],
      "metadata": {
        "id": "olJuWXIDK69x",
        "colab": {
          "base_uri": "https://localhost:8080/"
        },
        "outputId": "498908a5-95e2-4f6d-dc81-914d841596f3"
      },
      "execution_count": 33,
      "outputs": [
        {
          "output_type": "stream",
          "name": "stdout",
          "text": [
            "From a population of : 100  the selected pop is: \n",
            "[0, 1, 1, 1, 0, 1, 1, 0, 1, 1, 1, 0, 1, 0, 0, 0, 1, 1, 1, 1, 1, 1, 0, 0, 1, 0, 0, 1, 1, 1, 0, 1]\n"
          ]
        }
      ]
    },
    {
      "cell_type": "code",
      "source": [
        "def crossover(p1, p2, r_cross):\n",
        "    \"\"\"\n",
        "    Create two children from two parents using the crossover operation.\n",
        "    The children are created by copying the parents, and recombination occurs\n",
        "    if a random value is less than the crossover rate.\n",
        "\n",
        "    Parameters:\n",
        "    p1 (list): The first parent.\n",
        "    p2 (list): The second parent.\n",
        "    r_cross (float): The crossover rate.\n",
        "\n",
        "    Returns:\n",
        "    list: A list containing the two children.\n",
        "    \"\"\"\n",
        "    # Children are copies of the parents by default\n",
        "    c1, c2 = p1.copy(), p2.copy()\n",
        "    # Check if recombination should occur\n",
        "    if rand() < r_cross:\n",
        "        # Select a crossover point (not at the end of the string)\n",
        "        pt = randint(1, len(p1)-2)\n",
        "        # Perform crossover in the children\n",
        "        c1 = p1[:pt] + p2[pt:]\n",
        "        c2 = p2[:pt] + p1[pt:]\n",
        "    # Return the two children\n",
        "    return [c1, c2]"
      ],
      "metadata": {
        "id": "l5AuSyTtKWIB"
      },
      "execution_count": 34,
      "outputs": []
    },
    {
      "cell_type": "code",
      "source": [
        "# \"\"\"\n",
        "#######################################################\n",
        "#Let us understand the Crossover .\n",
        "test_r_cross = 0.9 #Crossover rate\n",
        "test_bounds=[[-10.0, 10.0], [-10.0, 10.0]]\n",
        "test_n_bits = 16\n",
        "test_p1 = randint(0, 2, test_n_bits*len(test_bounds)).tolist()\n",
        "test_p2 = randint(0, 2, test_n_bits*len(test_bounds)).tolist()\n",
        "test_c1, test_c2 = crossover(test_p1, test_p2, test_r_cross)\n",
        "print(\"Parent 1 is: \", test_p1)\n",
        "print(\"Child 1 is : \", test_c1)\n",
        "print(\"Parent 2 is: \", test_p2)\n",
        "print(\"Child 2 is : \", test_c2)\n",
        "#######################################################\n",
        "# \"\"\""
      ],
      "metadata": {
        "id": "QDYuRrzXLA4X",
        "colab": {
          "base_uri": "https://localhost:8080/"
        },
        "outputId": "a0bd4bc7-955c-4ede-f0cd-e7ddf6f4caec"
      },
      "execution_count": 37,
      "outputs": [
        {
          "output_type": "stream",
          "name": "stdout",
          "text": [
            "Parent 1 is:  [1, 1, 1, 1, 0, 0, 0, 0, 1, 1, 1, 0, 1, 0, 1, 1, 0, 0, 0, 0, 0, 1, 0, 0, 0, 0, 0, 0, 0, 1, 1, 1]\n",
            "Child 1 is :  [1, 1, 1, 1, 0, 0, 0, 0, 1, 1, 1, 0, 1, 0, 1, 1, 0, 0, 0, 0, 0, 1, 1, 1, 1, 0, 1, 0, 0, 1, 1, 1]\n",
            "Parent 2 is:  [0, 1, 1, 0, 1, 0, 1, 1, 1, 0, 1, 0, 1, 1, 0, 1, 0, 1, 0, 1, 1, 0, 1, 1, 1, 0, 1, 0, 0, 1, 1, 1]\n",
            "Child 2 is :  [0, 1, 1, 0, 1, 0, 1, 1, 1, 0, 1, 0, 1, 1, 0, 1, 0, 1, 0, 1, 1, 0, 0, 0, 0, 0, 0, 0, 0, 1, 1, 1]\n"
          ]
        }
      ]
    },
    {
      "cell_type": "code",
      "source": [
        "#The crossover process can generate offsprings that are very similar to the parents. This might cause a new generation with low diversity.\n",
        "# The mutation process solves this problem by changing the value of some features in the offspring at random.\n",
        "\n",
        "\n",
        "import random\n",
        "\n",
        "def mutation(bitstring, r_mut):\n",
        "    \"\"\"\n",
        "    The mutation process changes the value of some features in the offspring at random to maintain the diversity in the population.\n",
        "    A standard value for the mutation rate is 1/m where m is the number of features.\n",
        "\n",
        "    Parameters:\n",
        "    bitstring (list): A list of binary values representing the offspring\n",
        "    r_mut (float): The mutation rate, typically 1/m where m is the number of features\n",
        "\n",
        "    Returns:\n",
        "    list: The modified bitstring after mutation\n",
        "\n",
        "    \"\"\"\n",
        "    rand = random.random\n",
        "    for i in range(len(bitstring)):\n",
        "        # Check for a mutation\n",
        "        if rand() < r_mut:\n",
        "            # Flip the bit\n",
        "            bitstring[i] = 1 - bitstring[i]\n",
        "    return bitstring"
      ],
      "metadata": {
        "id": "etYc5HxIKivE"
      },
      "execution_count": 38,
      "outputs": []
    },
    {
      "cell_type": "code",
      "source": [
        "# \"\"\"\n",
        "#######################################################\n",
        "#Run the cell a few times to see random mutations\n",
        "#Let us understand the mutation.\n",
        "# define range for input\n",
        "test_bounds = [[-10.0, 10.0], [-10.0, 10.0]]\n",
        "test_n_bits = 16\n",
        "# mutation rate\n",
        "r_mut = 1.0 / (float(test_n_bits) * len(test_bounds))\n",
        "test_bitstring = randint(0, 2, test_n_bits*len(test_bounds)).tolist()\n",
        "print(\"String before mutation is \", test_bitstring)\n",
        "mutation(test_bitstring, r_mut)\n",
        "print(\"String after mutation is  \", test_bitstring)\n",
        "#################################################\n",
        "# \"\"\""
      ],
      "metadata": {
        "id": "pcen-dMALIxE",
        "colab": {
          "base_uri": "https://localhost:8080/"
        },
        "outputId": "e459801b-a00d-4dda-88c5-2ba063636fe0"
      },
      "execution_count": 46,
      "outputs": [
        {
          "output_type": "stream",
          "name": "stdout",
          "text": [
            "String before mutation is  [0, 1, 0, 1, 0, 0, 0, 0, 1, 1, 1, 0, 0, 1, 1, 1, 1, 1, 0, 0, 1, 1, 1, 0, 1, 0, 0, 1, 0, 0, 0, 0]\n",
            "String after mutation is   [0, 1, 0, 1, 0, 0, 0, 0, 1, 1, 1, 0, 0, 1, 1, 1, 1, 1, 0, 0, 1, 1, 1, 0, 1, 0, 0, 1, 0, 0, 1, 0]\n"
          ]
        }
      ]
    },
    {
      "cell_type": "code",
      "source": [
        "### Putting all together into our Genetic algorithm that runs until it finds the best\n",
        "#The whole fitness assignment, selection, recombination, and mutation process is\n",
        "#repeated until a stopping criterion is satisfied.\n",
        "#Each generation is likely to be more adapted to the environment than the old one.\n",
        "\n",
        "# genetic algorithm implementation\n",
        "def genetic_algorithm(objective, bounds, n_bits, n_iter, n_pop, r_cross, r_mut):\n",
        "    \"\"\"\n",
        "    The genetic algorithm that finds the optimal solution by performing the fitness assignment, selection, recombination, and mutation process repeatedly.\n",
        "    Each iteration, the solution is more adapted to the environment.\n",
        "\n",
        "    Parameters\n",
        "    ----------\n",
        "    objective: function\n",
        "        The objective function that needs to be optimized.\n",
        "    bounds: list of tuples\n",
        "        The bounds of the solution.\n",
        "    n_bits: int\n",
        "        The number of bits used to encode the solution.\n",
        "    n_iter: int\n",
        "        The number of iterations to perform.\n",
        "    n_pop: int\n",
        "        The size of the population.\n",
        "    r_cross: float\n",
        "        The crossover rate.\n",
        "    r_mut: float\n",
        "        The mutation rate.\n",
        "\n",
        "    Returns\n",
        "    -------\n",
        "    list\n",
        "        The best solution and its evaluation.\n",
        "    \"\"\"\n",
        "    # initialize the population with random bitstrings\n",
        "    pop = [randint(0, 2, n_bits * len(bounds)).tolist() for _ in range(n_pop)]\n",
        "\n",
        "    # track the best solution found so far\n",
        "    best, best_eval = 0, objective(decode(bounds, n_bits, pop[0]))\n",
        "\n",
        "    # iterate over generations\n",
        "    for gen in range(n_iter):\n",
        "        # decode the population\n",
        "        decoded = [decode(bounds, n_bits, p) for p in pop]\n",
        "        # evaluate all candidates in the population\n",
        "        scores = [objective(d) for d in decoded]\n",
        "        # check for a new best solution\n",
        "        for i in range(n_pop):\n",
        "            if scores[i] < best_eval:\n",
        "                best, best_eval = pop[i], scores[i]\n",
        "                print(\">%d, new best f(%s) = %f\" % (gen,  decoded[i], scores[i]))\n",
        "\n",
        "        # select parents\n",
        "        selected = [selection(pop, scores) for _ in range(n_pop)]\n",
        "\n",
        "        # create the next generation - children\n",
        "        children = list()\n",
        "        for i in range(0, n_pop, 2):\n",
        "            # get selected parents in pairs\n",
        "            p1, p2 = selected[i], selected[i + 1]\n",
        "            # crossover and mutation\n",
        "            for c in crossover(p1, p2, r_cross):\n",
        "                # mutation\n",
        "                mutation(c, r_mut)\n",
        "                # store for next generation\n",
        "                children.append(c)\n",
        "        # replace the population\n",
        "        pop = children\n",
        "    return [best, best_eval]\n",
        "\n",
        "\n"
      ],
      "metadata": {
        "id": "aftG_UNlJY42"
      },
      "execution_count": 20,
      "outputs": []
    },
    {
      "cell_type": "code",
      "source": [
        "\n",
        "# define range for input\n",
        "bounds = [[-10.0, 10.0], [-10.0, 10.0]]\n",
        "# define the total iterations\n",
        "n_iter = 100\n",
        "# bits per variable\n",
        "n_bits = 16\n",
        "# define the population size\n",
        "n_pop = 100\n",
        "# crossover rate\n",
        "r_cross = 0.9\n",
        "# mutation rate\n",
        "r_mut = 1.0 / (float(n_bits) * len(bounds))\n",
        "# perform the genetic algorithm search\n",
        "best, score = genetic_algorithm(objective, bounds, n_bits, n_iter, n_pop, r_cross, r_mut)\n",
        "print('###########################################################')\n",
        "decoded = decode(bounds, n_bits, best)\n",
        "print('The result is (%s) with a score of %f' % (decoded, score))"
      ],
      "metadata": {
        "id": "cLP_qMWeKsXN",
        "colab": {
          "base_uri": "https://localhost:8080/"
        },
        "outputId": "706d87b8-7286-494c-b642-c6604c895c26"
      },
      "execution_count": 21,
      "outputs": [
        {
          "output_type": "stream",
          "name": "stdout",
          "text": [
            ">0, new best f([9.31671142578125, 6.39434814453125]) = 190341.179470\n",
            ">0, new best f([4.51904296875, 6.9769287109375]) = 28225.052005\n",
            ">0, new best f([4.32647705078125, 7.91015625]) = 4169.220469\n",
            ">0, new best f([5.92010498046875, 8.973388671875]) = 3.211960\n",
            ">3, new best f([6.49627685546875, 8.95843505859375]) = 1.291061\n",
            ">4, new best f([7.11090087890625, 8.515625]) = 1.280074\n",
            ">5, new best f([7.1551513671875, 8.80218505859375]) = 1.065243\n",
            ">5, new best f([7.0458984375, 8.80218505859375]) = 1.042099\n",
            ">6, new best f([7.14385986328125, 9.03656005859375]) = 1.022277\n",
            ">6, new best f([6.885986328125, 9.07562255859375]) = 1.018894\n",
            ">6, new best f([7.12066650390625, 8.958740234375]) = 1.016396\n",
            ">7, new best f([6.93939208984375, 8.95843505859375]) = 1.005416\n",
            ">8, new best f([6.93939208984375, 8.9862060546875]) = 1.003871\n",
            ">8, new best f([6.99249267578125, 8.956298828125]) = 1.001968\n",
            ">9, new best f([6.9683837890625, 9.022216796875]) = 1.001494\n",
            ">10, new best f([6.9976806640625, 8.997802734375]) = 1.000010\n",
            ">24, new best f([7.00164794921875, 8.99749755859375]) = 1.000009\n",
            ">25, new best f([7.00164794921875, 8.99810791015625]) = 1.000006\n",
            ">26, new best f([7.00042724609375, 8.99810791015625]) = 1.000004\n",
            ">27, new best f([6.99981689453125, 8.99810791015625]) = 1.000004\n",
            ">34, new best f([7.00103759765625, 9.00054931640625]) = 1.000001\n",
            ">36, new best f([7.000732421875, 8.9996337890625]) = 1.000001\n",
            ">39, new best f([7.00042724609375, 8.9996337890625]) = 1.000000\n",
            ">41, new best f([6.99981689453125, 8.99993896484375]) = 1.000000\n",
            ">55, new best f([7.0001220703125, 8.99993896484375]) = 1.000000\n",
            "###########################################################\n",
            "The result is ([7.0001220703125, 8.99993896484375]) with a score of 1.000000\n"
          ]
        }
      ]
    }
  ]
}